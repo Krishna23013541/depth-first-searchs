{
  "nbformat": 4,
  "nbformat_minor": 0,
  "metadata": {
    "colab": {
      "provenance": []
    },
    "kernelspec": {
      "name": "python3",
      "display_name": "Python 3"
    },
    "language_info": {
      "name": "python"
    }
  },
  "cells": [
    {
      "cell_type": "code",
      "source": [
        "from collections import defaultdict\n",
        "\n",
        "def dfs(g, node, visited, path):\n",
        "    path.append(node)\n",
        "    visited[node] = True\n",
        "    for nbr in g[node]:\n",
        "        if not visited[nbr]:\n",
        "            dfs(g, nbr, visited, path)\n",
        "    return path\n",
        "\n",
        "g = defaultdict(list)\n",
        "n, e = map(int, input().split())\n",
        "\n",
        "for _ in range(e):\n",
        "    u, v = input().split()\n",
        "    g[u].append(v)\n",
        "    g[v].append(u)\n",
        "\n",
        "start = input()\n",
        "visited = defaultdict(bool)\n",
        "path = []\n",
        "result = dfs(g, start, visited, path)\n",
        "print(result)\n"
      ],
      "metadata": {
        "colab": {
          "base_uri": "https://localhost:8080/"
        },
        "id": "uvJdgQkqA3XB",
        "outputId": "cdb673c1-4f7e-4080-e30a-3f754deb7845"
      },
      "execution_count": null,
      "outputs": [
        {
          "output_type": "stream",
          "name": "stdout",
          "text": [
            "8 9\n",
            "A B\n",
            "A C\n",
            "B E\n",
            "C D\n",
            "B D\n",
            "C G\n",
            "D F\n",
            "G F\n",
            "F H\n",
            "A\n",
            "['A', 'B', 'E', 'D', 'C', 'G', 'F', 'H']\n"
          ]
        }
      ]
    }
  ]
}